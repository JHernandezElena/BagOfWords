{
 "nbformat": 4,
 "nbformat_minor": 2,
 "metadata": {
  "language_info": {
   "name": "python",
   "codemirror_mode": {
    "name": "ipython",
    "version": 3
   },
   "version": "3.6.8-final"
  },
  "orig_nbformat": 2,
  "file_extension": ".py",
  "mimetype": "text/x-python",
  "name": "python",
  "npconvert_exporter": "python",
  "pygments_lexer": "ipython3",
  "version": 3,
  "kernelspec": {
   "name": "python36864bitdlconda7f8422309f6c455d9cd2a7463fbec870",
   "display_name": "Python 3.6.8 64-bit ('dl': conda)"
  }
 },
 "cells": [
  {
   "cell_type": "markdown",
   "metadata": {},
   "source": [
    "# Lab 1. Bag of Words (BoW)"
   ],
   "execution_count": null,
   "outputs": []
  },
  {
   "cell_type": "markdown",
   "metadata": {},
   "source": [
    "### Import libraries"
   ],
   "execution_count": null,
   "outputs": []
  },
  {
   "cell_type": "code",
   "execution_count": 1,
   "metadata": {},
   "outputs": [],
   "source": [
    "from typing import List\n",
    "\n",
    "from bow import BoW\n",
    "from dataset import Dataset\n",
    "from image_classifier import ImageClassifier"
   ]
  },
  {
   "cell_type": "markdown",
   "metadata": {},
   "source": [
    "### Load helper functions"
   ],
   "execution_count": null,
   "outputs": []
  },
  {
   "cell_type": "code",
   "execution_count": 2,
   "metadata": {},
   "outputs": [],
   "source": [
    "def build_vocabulary(dataset: List[str], vocabulary: str = 'vocabulary', feature_type: str = 'SIFT', size: int = 200, iterations: int = 40): #CAMBIAR SIZE E ITERACIONES\n",
    "    \"\"\"Build a vocabulary.\n",
    "\n",
    "    Args:\n",
    "        dataset: Paths to the training images.\n",
    "        vocabulary: Relative path to the file (without extension) where the vocabulary will be saved.\n",
    "        feature_type: Feature extractor { SIFT, SURF, KAZE }. ##SIFT O SURF SON MEJORES\n",
    "        size: Number of words in the vocabulary. ## LO NORMAL 200,500...\n",
    "        iterations: Maximum number of K-means iterations.\n",
    "\n",
    "    \"\"\"\n",
    "    bow = BoW()\n",
    "    bow.build_vocabulary(dataset, feature_type=feature_type, vocabulary_size=size, iterations=iterations)\n",
    "    bow.save_vocabulary(vocabulary)\n",
    "\n",
    "def train_classifier(dataset: List[str], vocabulary: str = 'vocabulary', classifier: str = 'classifier', iterations: int = 200): #SOLO ITERACIONES\n",
    "    \"\"\"Train an SVM classifier.\n",
    "\n",
    "    Args:\n",
    "        dataset: Paths to the training images.\n",
    "        vocabulary: Relative path to the vocabulary file (without extension).\n",
    "        classifier: Relative path to the file (without extension) where the classifier will be saved.\n",
    "        iterations: Maximum number of SVM iterations. \n",
    "\n",
    "    \"\"\"\n",
    "    bow = BoW()\n",
    "    bow.load_vocabulary(vocabulary)\n",
    "\n",
    "    image_classifier = ImageClassifier(bow)\n",
    "    image_classifier.train(dataset, iterations=iterations)\n",
    "    image_classifier.save(classifier)\n",
    "\n",
    "def predict(dataset: List[str], dataset_name: str = \"\", vocabulary: str = 'vocabulary', classifier: str = 'classifier'):\n",
    "    \"\"\"Perform inference on a dataset.\n",
    "\n",
    "    Args:\n",
    "        dataset: Paths to the images.\n",
    "        dataset_name: Dataset descriptive name.\n",
    "        vocabulary: Relative path to the vocabulary file (without extension).\n",
    "        classifier: Relative path to the classifier file (without extension). \n",
    "\n",
    "    \"\"\"\n",
    "    bow = BoW()\n",
    "    bow.load_vocabulary(vocabulary)\n",
    "\n",
    "    image_classifier = ImageClassifier(bow)\n",
    "    image_classifier.load(classifier)\n",
    "    image_classifier.predict(dataset, dataset_name=dataset_name)"
   ]
  },
  {
   "cell_type": "markdown",
   "metadata": {},
   "source": [
    "### Load datasets"
   ],
   "execution_count": null,
   "outputs": []
  },
  {
   "cell_type": "code",
   "execution_count": 3,
   "metadata": {},
   "outputs": [],
   "source": [
    "training_set = Dataset.load('../dataset/training', '*.jpg')\n",
    "validation_set = Dataset.load('../dataset/validation', '*.jpg')"
   ]
  },
  {
   "cell_type": "markdown",
   "metadata": {},
   "source": [
    "### Build vocabulary and train a SVM classifier"
   ],
   "execution_count": null,
   "outputs": []
  },
  {
   "cell_type": "code",
   "execution_count": 4,
   "metadata": {},
   "outputs": [
    {
     "output_type": "stream",
     "name": "stdout",
     "text": "\nBUILDING DICTIONARY\n\nComputingSIFTdescriptors...\n100%|██████████| 2985/2985 [01:25<00:00, 34.09image/s]\n\nClustering descriptors into200words using K-means...\n"
    }
   ],
   "source": [
    "build_vocabulary(training_set)\n",
    "#train_classifier(training_set)"
   ]
  },
  {
   "cell_type": "markdown",
   "metadata": {},
   "source": [
    "### Perform inference on the training set"
   ],
   "execution_count": null,
   "outputs": []
  },
  {
   "cell_type": "code",
   "execution_count": 6,
   "metadata": {},
   "outputs": [
    {
     "output_type": "stream",
     "name": "stdout",
     "text": "\n\nCLASSIFICATION RESULTS (TRAINING)\n\nConfusion matrix\n\nKNOWN/PREDICTED  Bedroom  Coast  Forest  Highway  Industrial  Inside city  Kitchen  Living room  Mountain  Office  Open country  Store  Street  Suburb  Tall building\nBedroom             93.0    0.0     2.0      0.0         3.0          2.0      0.0          9.0       0.0     1.0           0.0    2.0     3.0     0.0            1.0\nCoast                0.0  227.0     2.0      0.0         1.0          0.0      0.0          0.0       7.0     0.0          21.0    0.0     0.0     2.0            0.0\nForest               0.0    0.0   226.0      0.0         0.0          0.0      0.0          0.0       1.0     0.0           1.0    0.0     0.0     0.0            0.0\nHighway              0.0    4.0     1.0    146.0         2.0          1.0      0.0          0.0       2.0     0.0           0.0    1.0     1.0     0.0            2.0\nIndustrial           1.0    1.0     0.0      2.0       167.0          6.0      2.0          3.0       2.0     2.0           0.0   13.0     6.0     2.0            4.0\nInside city          1.0    0.0     0.0      0.0        10.0        171.0      0.0          4.0       0.0     1.0           1.0    7.0     7.0     0.0            6.0\nKitchen              2.0    0.0     0.0      0.0         4.0          4.0     87.0          4.0       0.0     4.0           0.0    4.0     0.0     0.0            1.0\nLiving room          5.0    0.0     0.0      0.0         4.0          1.0      5.0        163.0       1.0     2.0           0.0    6.0     0.0     0.0            2.0\nMountain             0.0    3.0     6.0      0.0         1.0          0.0      0.0          1.0     255.0     0.0           8.0    0.0     0.0     0.0            0.0\nOffice               0.0    0.0     0.0      0.0         3.0          2.0      0.0          9.0       0.0   101.0           0.0    0.0     0.0     0.0            0.0\nOpen country         1.0   30.0    17.0      2.0         1.0          0.0      0.0          1.0      38.0     0.0         219.0    1.0     0.0     0.0            0.0\nStore                1.0    0.0     3.0      0.0         6.0          4.0      2.0          5.0       0.0     0.0           0.0  189.0     4.0     0.0            1.0\nStreet               0.0    1.0     0.0      2.0         6.0          2.0      2.0          3.0       1.0     0.0           1.0   10.0   157.0     0.0            7.0\nSuburb               0.0    0.0     1.0      1.0         2.0          0.0      1.0          3.0       0.0     0.0           1.0    0.0     0.0   132.0            0.0\nTall building        1.0    1.0     0.0      1.0        11.0          4.0      0.0          2.0       0.0     1.0           2.0    3.0     7.0     1.0          222.0\n\nAccuracy:0.8559463986599665\n"
    }
   ],
   "source": [
    "predict(training_set, \"Training\")"
   ]
  },
  {
   "cell_type": "markdown",
   "metadata": {},
   "source": [
    "### Perform inference on the validation set"
   ],
   "execution_count": null,
   "outputs": []
  },
  {
   "cell_type": "code",
   "execution_count": 7,
   "metadata": {},
   "outputs": [
    {
     "output_type": "stream",
     "name": "stdout",
     "text": "\n\nCLASSIFICATION RESULTS (VALIDATION)\n\nConfusion matrix\n\nKNOWN/PREDICTED  Bedroom  Coast  Forest  Highway  Industrial  Inside city  Kitchen  Living room  Mountain  Office  Open country  Store  Street  Suburb  Tall building\nBedroom             20.0    2.0     2.0      3.0         6.0          5.0      4.0         38.0       0.0     5.0           1.0    9.0     2.0     0.0            3.0\nCoast                2.0   57.0     2.0      5.0         3.0          0.0      1.0          1.0      16.0     0.0          12.0    0.0     0.0     0.0            1.0\nForest               0.0    0.0    87.0      0.0         0.0          0.0      0.0          0.0       9.0     0.0           3.0    0.0     0.0     1.0            0.0\nHighway              0.0   18.0     0.0     53.0         6.0          2.0      2.0          0.0       3.0     0.0           5.0    1.0     4.0     1.0            5.0\nIndustrial           5.0    1.0     1.0      3.0        39.0         11.0      4.0          5.0       0.0     3.0           3.0   12.0     6.0     3.0            4.0\nInside city          3.0    0.0     0.0      1.0         7.0         52.0      1.0          3.0       0.0     5.0           1.0   10.0     5.0     0.0           12.0\nKitchen              9.0    0.0     0.0      0.0         9.0         11.0     23.0         21.0       0.0    14.0           0.0    8.0     1.0     3.0            1.0\nLiving room          7.0    0.0     0.0      1.0        10.0          5.0      9.0         48.0       0.0     7.0           0.0    7.0     3.0     0.0            3.0\nMountain             0.0    9.0    10.0      0.0         0.0          0.0      0.0          0.0      74.0     0.0           5.0    0.0     1.0     1.0            0.0\nOffice               5.0    0.0     0.0      0.0         4.0          7.0      9.0         27.0       0.0    42.0           0.0    3.0     2.0     0.0            1.0\nOpen country         0.0   20.0     5.0      1.0         4.0          0.0      0.0          0.0      21.0     0.0          46.0    0.0     1.0     2.0            0.0\nStore                2.0    0.0     2.0      1.0         7.0          2.0      4.0          4.0       0.0     1.0           0.0   71.0     4.0     1.0            1.0\nStreet               1.0    0.0     1.0      1.0        11.0          6.0      2.0          2.0       1.0     0.0           2.0   15.0    49.0     0.0            9.0\nSuburb               1.0    0.0     1.0      1.0         3.0          1.0      0.0          5.0       1.0     0.0           2.0    3.0     0.0    81.0            1.0\nTall building        4.0    0.0     1.0      4.0         6.0          7.0      0.0          1.0       1.0     0.0           4.0    2.0     4.0     0.0           66.0\n\nAccuracy:0.5386666666666666\n"
    }
   ],
   "source": [
    "predict(validation_set, \"Validation\")"
   ]
  },
  {
   "cell_type": "code",
   "execution_count": null,
   "metadata": {},
   "outputs": [],
   "source": []
  }
 ]
}